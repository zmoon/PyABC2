{
 "cells": [
  {
   "cell_type": "markdown",
   "id": "0",
   "metadata": {},
   "source": [
    "# Tune sources"
   ]
  },
  {
   "cell_type": "code",
   "execution_count": null,
   "id": "1",
   "metadata": {},
   "outputs": [],
   "source": [
    "from pyabc2.sources import the_session, norbeck"
   ]
  },
  {
   "cell_type": "markdown",
   "id": "2",
   "metadata": {},
   "source": [
    "## Norbeck"
   ]
  },
  {
   "cell_type": "code",
   "execution_count": null,
   "id": "3",
   "metadata": {},
   "outputs": [],
   "source": [
    "tunes = norbeck.load(\"jigs\")\n",
    "tunes[0]"
   ]
  },
  {
   "cell_type": "markdown",
   "id": "4",
   "metadata": {},
   "source": [
    "## The Session"
   ]
  },
  {
   "cell_type": "code",
   "execution_count": null,
   "id": "5",
   "metadata": {},
   "outputs": [],
   "source": [
    "tune = the_session.load_url(\"https://thesession.org/tunes/21799#setting43712\")\n",
    "tune"
   ]
  },
  {
   "cell_type": "code",
   "execution_count": null,
   "id": "6",
   "metadata": {},
   "outputs": [],
   "source": [
    "tune.print_measures()"
   ]
  },
  {
   "cell_type": "markdown",
   "id": "7",
   "metadata": {},
   "source": [
    "The Session data archive (<https://github.com/adactio/TheSession-data>) is a wealth of data,\n",
    "which we can use in other ways besides parsing to {class}`~pyabc2.Tune`."
   ]
  },
  {
   "cell_type": "code",
   "execution_count": null,
   "id": "8",
   "metadata": {},
   "outputs": [],
   "source": [
    "%%time\n",
    "\n",
    "df = the_session.load_meta(\"tunes\", convert_dtypes=True)\n",
    "df"
   ]
  },
  {
   "cell_type": "code",
   "execution_count": null,
   "id": "9",
   "metadata": {},
   "outputs": [],
   "source": [
    "df.info()"
   ]
  },
  {
   "cell_type": "markdown",
   "id": "10",
   "metadata": {},
   "source": [
    "For example, we can look for the most common ABC notes in the corpus."
   ]
  },
  {
   "cell_type": "code",
   "execution_count": null,
   "id": "11",
   "metadata": {},
   "outputs": [],
   "source": [
    "from pyabc2.note import _RE_NOTE as rx\n",
    "\n",
    "rx"
   ]
  },
  {
   "cell_type": "code",
   "execution_count": null,
   "id": "12",
   "metadata": {},
   "outputs": [],
   "source": [
    "%%time\n",
    "\n",
    "note_counts = (\n",
    "    df.abc\n",
    "    .str.findall(rx)\n",
    "    .explode()\n",
    "    .str.join(\"\")\n",
    "    .value_counts()\n",
    ")\n",
    "note_counts"
   ]
  },
  {
   "cell_type": "code",
   "execution_count": null,
   "id": "13",
   "metadata": {},
   "outputs": [],
   "source": [
    "note_counts[:10]"
   ]
  },
  {
   "cell_type": "markdown",
   "id": "14",
   "metadata": {},
   "source": [
    "👆 We can see that `A` is the leader, being a prominent note in many of the common keys\n",
    "* 5 in Dmaj\n",
    "* 2 in Gmaj\n",
    "* 1 in Ador, Amin, Amix, Amaj"
   ]
  },
  {
   "cell_type": "code",
   "execution_count": null,
   "id": "15",
   "metadata": {},
   "outputs": [],
   "source": [
    "from textwrap import wrap\n",
    "\n",
    "print(\"\\n\".join(wrap(\"  \".join(note_counts[note_counts == 1].index))))"
   ]
  },
  {
   "cell_type": "markdown",
   "id": "16",
   "metadata": {},
   "source": [
    "👆 A variety of ABC note specs appear only once. Many of these have unusual durations or accidentals."
   ]
  },
  {
   "cell_type": "markdown",
   "id": "17",
   "metadata": {},
   "source": [
    "What if we ignore everything except the natural note name?"
   ]
  },
  {
   "cell_type": "code",
   "execution_count": null,
   "id": "18",
   "metadata": {},
   "outputs": [],
   "source": [
    "nat_cased_counts = (\n",
    "    note_counts\n",
    "    .reset_index(drop=False)\n",
    "    .rename(columns={\"index\": \"note\", \"abc\": \"count\"})\n",
    "    .assign(nat=lambda df: df.note.str.extract(r\"([a-gA-G])\"))\n",
    "    .groupby(\"nat\")\n",
    "    .aggregate({\"count\": \"sum\"})[\"count\"]\n",
    "    .sort_values(ascending=False)\n",
    ")\n",
    "nat_cased_counts"
   ]
  },
  {
   "cell_type": "markdown",
   "id": "19",
   "metadata": {},
   "source": [
    "👆 `A` is still our leader, but otherwise things have shifted a bit.\n",
    "Note `C`, which generally implies a pitch outside of the range of most whistles and flutes,\n",
    "has the lowest count.\n",
    "Although `b` is inside that range, many tunes don't have one."
   ]
  },
  {
   "cell_type": "code",
   "execution_count": null,
   "id": "20",
   "metadata": {},
   "outputs": [],
   "source": [
    "from pyabc2 import Note\n",
    "\n",
    "(\n",
    "    nat_cased_counts\n",
    "    .to_frame()\n",
    "    .assign(value=lambda df: df.index.map(lambda x: Note.from_abc(x).value))\n",
    "    .sort_values(\"value\")[\"count\"]\n",
    "    .plot.bar(\n",
    "        xlabel=\"ABC letters\\n(accidentals, octave indicators, and context in key ignored)\",\n",
    "        rot=0,\n",
    "        ylabel=\"Count\",\n",
    "        title=\"ABC prevalance in The Session\",\n",
    "    )\n",
    ");"
   ]
  }
 ],
 "metadata": {
  "kernelspec": {
   "display_name": "venv",
   "language": "python",
   "name": "python3"
  },
  "language_info": {
   "codemirror_mode": {
    "name": "ipython",
    "version": 3
   },
   "file_extension": ".py",
   "mimetype": "text/x-python",
   "name": "python",
   "nbconvert_exporter": "python",
   "pygments_lexer": "ipython3"
  }
 },
 "nbformat": 4,
 "nbformat_minor": 5
}
