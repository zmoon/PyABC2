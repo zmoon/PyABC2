{
 "cells": [
  {
   "cell_type": "markdown",
   "id": "0",
   "metadata": {},
   "source": [
    "# Plots"
   ]
  },
  {
   "cell_type": "code",
   "execution_count": null,
   "id": "1",
   "metadata": {},
   "outputs": [],
   "source": [
    "import matplotlib.pyplot as plt\n",
    "import numpy as np\n",
    "import pandas as pd\n",
    "from pyabc2.sources import load_example"
   ]
  },
  {
   "cell_type": "code",
   "execution_count": null,
   "id": "2",
   "metadata": {},
   "outputs": [],
   "source": [
    "tune = load_example(\"For the Love of Music\")\n",
    "tune"
   ]
  },
  {
   "cell_type": "markdown",
   "id": "3",
   "metadata": {},
   "source": [
    "Something simple we can do is plot the trajectory, as a sort of time series.\n",
    "Ignoring note duration, that looks like this:"
   ]
  },
  {
   "cell_type": "code",
   "execution_count": null,
   "id": "4",
   "metadata": {},
   "outputs": [],
   "source": [
    "y = np.array([n.value for n in tune.iter_notes()])\n",
    "x = np.arange(len(y)) * 1/8\n",
    "\n",
    "plt.figure(figsize=(7, 3), layout=\"constrained\")\n",
    "plt.axis(\"off\")\n",
    "plt.plot(x, y);"
   ]
  },
  {
   "cell_type": "markdown",
   "id": "5",
   "metadata": {},
   "source": [
    "Or, considering duration:"
   ]
  },
  {
   "cell_type": "code",
   "execution_count": null,
   "id": "6",
   "metadata": {},
   "outputs": [],
   "source": [
    "plt.figure(figsize=(7, 3), layout=\"constrained\")\n",
    "\n",
    "y = np.array([n.value for n in tune.iter_notes()])\n",
    "x = np.arange(1, len(y) + 1) * 1/8  # shift for consistency\n",
    "\n",
    "plt.plot(x, y, label=\"ignored\")\n",
    "\n",
    "data = np.array(\n",
    "    [\n",
    "        [n.value, float(n.duration)]\n",
    "        for n in tune.iter_notes()\n",
    "    ]\n",
    ")\n",
    "x = data[:,1].cumsum()  # ends of notes\n",
    "y = data[:,0]\n",
    "assert len(x) == len(y)\n",
    "\n",
    "plt.plot(x, y, label=\"considered\")\n",
    "plt.axis(\"off\")\n",
    "plt.legend(title=\"duration\", loc=\"upper left\");"
   ]
  },
  {
   "cell_type": "markdown",
   "id": "7",
   "metadata": {},
   "source": [
    "The divergence occurs due to the 16th notes in the B part."
   ]
  },
  {
   "cell_type": "markdown",
   "id": "8",
   "metadata": {},
   "source": [
    "We can make a histogram of the notes, again considering duration or not."
   ]
  },
  {
   "cell_type": "code",
   "execution_count": null,
   "id": "9",
   "metadata": {},
   "outputs": [],
   "source": [
    "data = [\n",
    "    [n.value, float(n.duration), n.to_pitch().unicode()]\n",
    "    for n in tune.iter_notes()\n",
    "]\n",
    "\n",
    "df = pd.DataFrame(data, columns=[\"value\", \"duration\", \"pitch\"])\n",
    "\n",
    "_, ax = plt.subplots(figsize=(6, 3.5), layout=\"constrained\")\n",
    "\n",
    "count = (\n",
    "    df.groupby(\"value\")\n",
    "    .aggregate({\"pitch\": \"first\", \"duration\": \"size\"})\n",
    "    .rename(columns={\"duration\": \"unweighted\"})\n",
    "    .assign(\n",
    "        weighted=(\n",
    "            df.assign(w=df[\"duration\"] * 8)\n",
    "            .groupby(\"value\")[\"w\"].sum()\n",
    "        )\n",
    "    )\n",
    ")\n",
    "\n",
    "count.plot.bar(\n",
    "    x=\"pitch\",\n",
    "    rot=0,\n",
    "    xlabel=\"Pitch\",\n",
    "    ylabel=\"Count\",\n",
    "    ax=ax,\n",
    ");"
   ]
  }
 ],
 "metadata": {
  "kernelspec": {
   "display_name": "venv",
   "language": "python",
   "name": "python3"
  },
  "language_info": {
   "codemirror_mode": {
    "name": "ipython",
    "version": 3
   },
   "file_extension": ".py",
   "mimetype": "text/x-python",
   "name": "python",
   "nbconvert_exporter": "python",
   "pygments_lexer": "ipython3"
  }
 },
 "nbformat": 4,
 "nbformat_minor": 5
}
