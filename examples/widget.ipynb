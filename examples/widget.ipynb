{
 "cells": [
  {
   "cell_type": "code",
   "execution_count": null,
   "id": "0",
   "metadata": {},
   "outputs": [],
   "source": [
    "import ipywidgets as ipw\n",
    "from IPython.display import SVG\n",
    "\n",
    "from pyabc2.widget import ABCJSWidget"
   ]
  },
  {
   "cell_type": "code",
   "execution_count": null,
   "id": "1",
   "metadata": {},
   "outputs": [],
   "source": [
    "w = ABCJSWidget(logo=True)\n",
    "w"
   ]
  },
  {
   "cell_type": "code",
   "execution_count": null,
   "id": "2",
   "metadata": {},
   "outputs": [],
   "source": [
    "w.abc = \"ABCD\""
   ]
  },
  {
   "cell_type": "code",
   "execution_count": null,
   "id": "3",
   "metadata": {},
   "outputs": [],
   "source": [
    "w = ABCJSWidget()\n",
    "w.abc = \"\"\"\\\n",
    "K: G\n",
    "G,A,B,C DEFG | ABcd efga | bc'd'e' f'g'a'\n",
    "\"\"\"\n",
    "display(w)"
   ]
  },
  {
   "cell_type": "code",
   "execution_count": null,
   "id": "4",
   "metadata": {},
   "outputs": [],
   "source": [
    "w"
   ]
  },
  {
   "cell_type": "code",
   "execution_count": null,
   "id": "5",
   "metadata": {},
   "outputs": [],
   "source": [
    "w.abc += \"c'\"  # All display instances are modified!\n",
    "w"
   ]
  },
  {
   "cell_type": "code",
   "execution_count": null,
   "id": "6",
   "metadata": {},
   "outputs": [],
   "source": [
    "w"
   ]
  },
  {
   "cell_type": "code",
   "execution_count": null,
   "id": "7",
   "metadata": {},
   "outputs": [],
   "source": [
    "w = ABCJSWidget(hide=True)\n",
    "w.abc = \"\"\"\\\n",
    "K: G\n",
    "G,A,B,C DEFG | ABcd efga | bc'd'e' f'g'a'\n",
    "\"\"\"\n",
    "display(w)\n",
    "print(w.svgs)  # NOTE: Empty at this point"
   ]
  },
  {
   "cell_type": "code",
   "execution_count": null,
   "id": "8",
   "metadata": {},
   "outputs": [],
   "source": [
    "# NOTE: empty the first time this cell is called if using restart and run to selected cell\n",
    "print(len(w.svgs), \"SVG(s)\")\n",
    "for i, s in enumerate(w.svgs):\n",
    "    display(SVG(s))\n",
    "    with open(f\"music{i}.svg\", \"w\") as f:\n",
    "        f.write(s)"
   ]
  },
  {
   "cell_type": "markdown",
   "id": "9",
   "metadata": {},
   "source": [
    "## Compare to ipywidgets behavior"
   ]
  },
  {
   "cell_type": "code",
   "execution_count": null,
   "id": "10",
   "metadata": {},
   "outputs": [],
   "source": [
    "slider = ipw.FloatSlider(min=200, max=500, value=400)"
   ]
  },
  {
   "cell_type": "code",
   "execution_count": null,
   "id": "11",
   "metadata": {},
   "outputs": [],
   "source": [
    "slider"
   ]
  },
  {
   "cell_type": "code",
   "execution_count": null,
   "id": "12",
   "metadata": {},
   "outputs": [],
   "source": [
    "slider"
   ]
  },
  {
   "cell_type": "code",
   "execution_count": null,
   "id": "13",
   "metadata": {},
   "outputs": [],
   "source": [
    "# We can do this and all display instances change and the slider still shows for this cell\n",
    "slider.value += 1\n",
    "slider"
   ]
  },
  {
   "cell_type": "markdown",
   "id": "14",
   "metadata": {},
   "source": [
    "## Compose with ipywidgets"
   ]
  },
  {
   "cell_type": "code",
   "execution_count": null,
   "id": "15",
   "metadata": {},
   "outputs": [],
   "source": [
    "abc = \"K:C\\nT:The best scale\\n\" + \"CDEF GABc | \" * 4\n",
    "w = ABCJSWidget(abc=abc, foreground=\"#303030\")\n",
    "\n",
    "input_box = ipw.Textarea(value=None, placeholder=\"Type something\", layout={\"width\": \"500px\", \"height\": \"5rem\"})\n",
    "\n",
    "width_slider = ipw.IntSlider(min=300, max=1000, value=740, description=\"Staff width (px?)\")\n",
    "line_thickness_slider = ipw.FloatSlider(min=-0.4, max=2, step=0.05, value=0, description=\"Line thickness increase factor\")\n",
    "scale_slider = ipw.FloatSlider(min=0.2, max=3, value=1, description=\"Scaling factor\")\n",
    "transpose_slider = ipw.IntSlider(min=-12, max=12, value=0, description=\"Transpose (half steps)\")\n",
    "foreground_picker = ipw.ColorPicker(\n",
    "    concise=False,\n",
    "    description=\"Foreground color\",\n",
    "    value=w.foreground,\n",
    ")\n",
    "\n",
    "save_button = ipw.Button(description=\"Save\", tooltip=\"Save to SVG\")\n",
    "\n",
    "# logo_cbox = ipw.Checkbox(description=\"Add logo\", indent=False)  # currently have to decide at init\n",
    "debug_box_cbox = ipw.Checkbox(description=\"Box\", indent=False)\n",
    "debug_grid_cbox = ipw.Checkbox(description=\"Grid\", indent=False)\n",
    "debug_input_cbox = ipw.Checkbox(description=\"Input\", indent=False)\n",
    "\n",
    "ipw.link((w, \"abc\"), (input_box, \"value\"))\n",
    "ipw.link((w, \"staff_width\"), (width_slider, \"value\"))\n",
    "ipw.link((w, \"scale\"), (scale_slider, \"value\"))\n",
    "ipw.link((w, \"line_thickness_increase\"), (line_thickness_slider, \"value\"))\n",
    "ipw.link((w, \"transpose\"), (transpose_slider, \"value\"))\n",
    "ipw.link((w, \"foreground\"), (foreground_picker, \"value\"))\n",
    "# ipw.link((w, \"logo\"), (logo_cbox, \"value\"))\n",
    "ipw.link((w, \"debug_box\"), (debug_box_cbox, \"value\"))\n",
    "ipw.link((w, \"debug_grid\"), (debug_grid_cbox, \"value\"))\n",
    "ipw.link((w, \"debug_input\"), (debug_input_cbox, \"value\"))\n",
    "\n",
    "def save(btn):\n",
    "    for i, s in enumerate(w.svgs):\n",
    "        with open(f\"music{i}.svg\", \"w\") as f:\n",
    "            f.write(s)\n",
    "\n",
    "save_button.on_click(save)\n",
    "\n",
    "ipw.VBox([\n",
    "    input_box,\n",
    "    width_slider,\n",
    "    scale_slider,\n",
    "    line_thickness_slider,\n",
    "    transpose_slider,\n",
    "    foreground_picker,\n",
    "    # logo_cbox,\n",
    "    w,\n",
    "    save_button,\n",
    "    ipw.HBox([\n",
    "        ipw.Label(value=\"Debug options:\", layout={\"width\": \"100px\"}),\n",
    "        debug_box_cbox,\n",
    "        debug_grid_cbox,\n",
    "        debug_input_cbox,\n",
    "    ]),\n",
    "])"
   ]
  },
  {
   "cell_type": "markdown",
   "id": "16",
   "metadata": {},
   "source": [
    "## Set params in init"
   ]
  },
  {
   "cell_type": "code",
   "execution_count": null,
   "id": "17",
   "metadata": {},
   "outputs": [],
   "source": [
    "ABCJSWidget(abc=\"K:G\\n\" + \" G,A,B,C DEFG | \" * 4, staff_width=200)"
   ]
  }
 ],
 "metadata": {
  "kernelspec": {
   "display_name": "Python 3 (ipykernel)",
   "language": "python",
   "name": "python3"
  },
  "language_info": {
   "codemirror_mode": {
    "name": "ipython",
    "version": 3
   },
   "file_extension": ".py",
   "mimetype": "text/x-python",
   "name": "python",
   "nbconvert_exporter": "python",
   "pygments_lexer": "ipython3"
  }
 },
 "nbformat": 4,
 "nbformat_minor": 5
}
