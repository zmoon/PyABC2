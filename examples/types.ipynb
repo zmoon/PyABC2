{
 "cells": [
  {
   "cell_type": "markdown",
   "id": "b495cdee-dae7-407a-8d5b-f58c49c28820",
   "metadata": {},
   "source": [
    "Checking the Jupyter reprs."
   ]
  },
  {
   "cell_type": "code",
   "execution_count": null,
   "id": "e71a5cd7-bf37-4cc5-9226-831fb66135b0",
   "metadata": {},
   "outputs": [],
   "source": [
    "from fractions import Fraction\n",
    "\n",
    "import pyabc2\n",
    "from pyabc2.sources import load_example_abc"
   ]
  },
  {
   "cell_type": "code",
   "execution_count": null,
   "id": "8a9bed71-35eb-4d86-9464-b1c8fd4560eb",
   "metadata": {},
   "outputs": [],
   "source": [
    "pyabc2.PitchClass(6)"
   ]
  },
  {
   "cell_type": "code",
   "execution_count": null,
   "id": "1f745575-5225-44a9-9f15-2fe4529f3a8b",
   "metadata": {},
   "outputs": [],
   "source": [
    "Fb = pyabc2.PitchClass.from_name(\"Fb\")\n",
    "Fb"
   ]
  },
  {
   "cell_type": "code",
   "execution_count": null,
   "id": "fb60156b-19da-4038-9a4d-1213988c6519",
   "metadata": {},
   "outputs": [],
   "source": [
    "Fb.equivalent_sharp"
   ]
  },
  {
   "cell_type": "code",
   "execution_count": null,
   "id": "18446868-e0b6-45c2-af05-1656a057afa7",
   "metadata": {},
   "outputs": [],
   "source": [
    "pyabc2.Pitch(39)"
   ]
  },
  {
   "cell_type": "code",
   "execution_count": null,
   "id": "47f7a254-1c5b-45c2-832e-d0cae82c0950",
   "metadata": {},
   "outputs": [],
   "source": [
    "pyabc2.Pitch.from_name(\"Fb4\")"
   ]
  },
  {
   "cell_type": "code",
   "execution_count": null,
   "id": "28275a7d-6859-4fc4-a872-2cd6aaedda18",
   "metadata": {},
   "outputs": [],
   "source": [
    "pyabc2.Note.from_abc(\"G2\")"
   ]
  },
  {
   "cell_type": "code",
   "execution_count": null,
   "id": "adcacce3-fcb0-4aa6-afef-411ba6de85b4",
   "metadata": {},
   "outputs": [],
   "source": [
    "pyabc2.Note.from_abc(\"f24\")"
   ]
  },
  {
   "cell_type": "code",
   "execution_count": null,
   "id": "018525ce-09d1-4864-adc6-147fef4956a9",
   "metadata": {},
   "outputs": [],
   "source": [
    "pyabc2.Note.from_abc(\"D,,3/\")"
   ]
  },
  {
   "cell_type": "code",
   "execution_count": null,
   "id": "b3218192-ec36-4bb1-833a-c3bac87d7e06",
   "metadata": {},
   "outputs": [],
   "source": [
    "pyabc2.Rest()"
   ]
  },
  {
   "cell_type": "code",
   "execution_count": null,
   "id": "f5d79060-6327-4121-be4f-7599ca303902",
   "metadata": {},
   "outputs": [],
   "source": [
    "pyabc2.Rest(Fraction(\"1/4\"))"
   ]
  },
  {
   "cell_type": "code",
   "execution_count": null,
   "id": "649198f0-0d4b-4ac2-8ff3-82557b24d9ce",
   "metadata": {},
   "outputs": [],
   "source": [
    "pyabc2.Rest.from_abc(\"x6\")"
   ]
  },
  {
   "cell_type": "code",
   "execution_count": null,
   "id": "1d7851ab-6021-4445-87f3-016762498f16",
   "metadata": {},
   "outputs": [],
   "source": [
    "pyabc2.Rest.from_abc(\"z3/2\")"
   ]
  },
  {
   "cell_type": "code",
   "execution_count": null,
   "id": "daf6debd-69e9-4b51-bbad-0a6d08b24590",
   "metadata": {},
   "outputs": [],
   "source": [
    "abc = load_example_abc(\"For the Love of Music\")\n",
    "\n",
    "print(abc)"
   ]
  },
  {
   "cell_type": "code",
   "execution_count": null,
   "id": "24d338b0-c6ca-4cbe-9a36-62aef6e7a975",
   "metadata": {},
   "outputs": [],
   "source": [
    "pyabc2.Tune(abc)"
   ]
  }
 ],
 "metadata": {
  "kernelspec": {
   "display_name": "Python 3 (ipykernel)",
   "language": "python",
   "name": "python3"
  },
  "language_info": {
   "codemirror_mode": {
    "name": "ipython",
    "version": 3
   },
   "file_extension": ".py",
   "mimetype": "text/x-python",
   "name": "python",
   "nbconvert_exporter": "python",
   "pygments_lexer": "ipython3"
  }
 },
 "nbformat": 4,
 "nbformat_minor": 5
}
